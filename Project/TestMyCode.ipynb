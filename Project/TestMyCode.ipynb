{
 "cells": [
  {
   "cell_type": "code",
   "execution_count": 1,
   "metadata": {},
   "outputs": [],
   "source": [
    "from tkinter import *\n",
    "from tkinter.ttk import *\n",
    "from PIL import ImageTk, Image\n",
    "Win1 = Tk()\n",
    "Win1.geometry(\"800x800\")\n",
    "Win1Lab = Label(text=\"V Image Goes Here V\",foreground=\"purple\")\n",
    "Win1Lab.pack()\n",
    "Win1ImgBox = Frame(Win1, width=600, height=600)\n",
    "Win1ImgBox.pack()\n",
    "RawImg = ImageTk.PhotoImage(Image.open(\"Cryptotora.JPG\"))\n",
    "Win1ImgCont = Label(Win1ImgBox, image = RawImg)\n",
    "Win1ImgCont.pack()\n",
    "\n",
    "Win1.mainloop()"
   ]
  }
 ],
 "metadata": {
  "kernelspec": {
   "display_name": "base",
   "language": "python",
   "name": "python3"
  },
  "language_info": {
   "codemirror_mode": {
    "name": "ipython",
    "version": 3
   },
   "file_extension": ".py",
   "mimetype": "text/x-python",
   "name": "python",
   "nbconvert_exporter": "python",
   "pygments_lexer": "ipython3",
   "version": "3.6.5 |Anaconda, Inc.| (default, Mar 29 2018, 13:32:41) [MSC v.1900 64 bit (AMD64)]"
  },
  "orig_nbformat": 4,
  "vscode": {
   "interpreter": {
    "hash": "ad2bdc8ecc057115af97d19610ffacc2b4e99fae6737bb82f5d7fb13d2f2c186"
   }
  }
 },
 "nbformat": 4,
 "nbformat_minor": 2
}
